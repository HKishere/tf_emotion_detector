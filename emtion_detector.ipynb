{
 "cells": [
  {
   "cell_type": "code",
   "execution_count": 1,
   "metadata": {},
   "outputs": [],
   "source": [
    "#!/usr/bin/env python\n",
    "# -*- coding: utf-8 -*-\n",
    "import cv2\n",
    "import numpy as np\n",
    "import tensorflow as tf\n",
    "from tensorflow.keras.preprocessing import image\n",
    "\n",
    "face_cascade = cv2.CascadeClassifier(cv2.data.haarcascades+\"haarcascade_frontalface_alt.xml\")\n",
    "cam = cv2.VideoCapture(0)\n",
    "\n",
    "#keras_model_path = './callbacks_CK/emtion_model_CK.h5'\n",
    "keras_model_path = '../code/callbacks/emtion_model.h5'\n",
    "#emotion_labels = ['anger', 'disgust', 'Surprised',\n",
    "#                'happy', 'sad','natural','afriad' ]\n",
    "emotion_labels = ['anger', 'disgust', 'Surprised',\n",
    "                'happy', 'sad','afriad' ,'natural']\n",
    "font = cv2.FONT_HERSHEY_SIMPLEX"
   ]
  },
  {
   "cell_type": "code",
   "execution_count": 2,
   "metadata": {},
   "outputs": [
    {
     "name": "stdout",
     "output_type": "stream",
     "text": [
      "['loss', 'accuracy']\n"
     ]
    }
   ],
   "source": [
    "restored_keras_model = tf.keras.models.load_model(keras_model_path)\n",
    "print(restored_keras_model.metrics_names)"
   ]
  },
  {
   "cell_type": "code",
   "execution_count": 3,
   "metadata": {},
   "outputs": [],
   "source": [
    "def EmtionDetect (img):\n",
    "    face_area = img[y-h//4:y+h+h//4, x-w//4:x+w+w//4]\n",
    "    face_area_gray = cv2.cvtColor(face_area, cv2.COLOR_BGR2GRAY)\n",
    "    face_area_gray = cv2.cvtColor(face_area_gray, cv2.COLOR_GRAY2BGR)\n",
    "    face_area_gray = cv2.resize(face_area_gray,(48, 48))\n",
    "    face_area_gray = face_area_gray/255\n",
    "    array_img = image.img_to_array(face_area_gray)\n",
    "    array_img = np.expand_dims(array_img, axis=0)\n",
    "    emotion_prediction = restored_keras_model(array_img)\n",
    "    #print(emotion_prediction)\n",
    "    emotionprobability = np.max(emotion_prediction)\n",
    "    emotion_label_arg = np.argmax(emotion_prediction)\n",
    "    emotion_text = emotion_labels[emotion_label_arg]  \n",
    "    return emotion_text"
   ]
  },
  {
   "cell_type": "code",
   "execution_count": 4,
   "metadata": {},
   "outputs": [],
   "source": [
    "while(True):\n",
    "    ret, frame = cam.read()\n",
    "    faces = face_cascade.detectMultiScale(frame, 1.3, 5)\n",
    "    img = frame\n",
    "    for (x,y,w,h) in faces:\n",
    "        img = cv2.rectangle(img,(x,y),(x+w,y+h),(255,0,0),2)\n",
    "        if (w>0) and (h>0):\n",
    "            predict_result = EmtionDetect(img)\n",
    "        cv2.putText(img=frame, text=predict_result, org=(x, y), fontFace=font, color=(255,255,255), fontScale = 2)\n",
    "    cv2.imshow('frame',img)\n",
    "    if cv2.waitKey(5) & 0xFF == ord('q'):\n",
    "        break\n",
    "\n",
    "cam.release()\n",
    "cv2.destroyAllWindows()"
   ]
  },
  {
   "cell_type": "code",
   "execution_count": null,
   "metadata": {},
   "outputs": [],
   "source": []
  },
  {
   "cell_type": "code",
   "execution_count": null,
   "metadata": {},
   "outputs": [],
   "source": []
  }
 ],
 "metadata": {
  "kernelspec": {
   "display_name": "Python 3",
   "language": "python",
   "name": "python3"
  },
  "language_info": {
   "codemirror_mode": {
    "name": "ipython",
    "version": 3
   },
   "file_extension": ".py",
   "mimetype": "text/x-python",
   "name": "python",
   "nbconvert_exporter": "python",
   "pygments_lexer": "ipython3",
   "version": "3.7.7"
  }
 },
 "nbformat": 4,
 "nbformat_minor": 4
}
